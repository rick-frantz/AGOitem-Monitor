{
 "cells": [
  {
   "cell_type": "markdown",
   "metadata": {},
   "source": [
    "# Tree Data Audit\n",
    "Description: This will audit the data integrity of the Audubon Society's tree inventory data of Green Lawn Cemetery in Columbus, OH.\n",
    " \n",
    "Created on: 10/27/2019\n",
    " \n",
    "Purpose: Various fields have technical or data hygeine requirements. This scours the data, filling in incomplete data where possible and reporting instances where populating is not possible. \n",
    " \n",
    "Authored by: Rick Frantz"
   ]
  },
  {
   "cell_type": "markdown",
   "metadata": {},
   "source": [
    "# Connect to ArcGIS Online"
   ]
  },
  {
   "cell_type": "code",
   "execution_count": null,
   "metadata": {},
   "outputs": [],
   "source": [
    "# import\n",
    "from arcgis.gis import GIS\n",
    "from arcgis.gis.server import Server\n",
    "import getpass\n",
    "from IPython.display import display\n",
    "from arcgis.mapping import WebMap\n",
    "import json\n",
    "import requests\n",
    "from arcgis.features import FeatureSet, Feature\n",
    "#import time\n",
    "\n",
    "# Connection Variables\n",
    "#Organization = \"https://audubon.maps.arcgis.com\"\n",
    "Organization = input(\"What's your oranization? \")\n",
    "User = input(\"What's your  username? \")\n",
    "Password = getpass.getpass('Password: ')\n",
    "\n",
    "# Connection \n",
    "gis = GIS(Organization, User, Password)\n",
    "gis"
   ]
  },
  {
   "cell_type": "markdown",
   "metadata": {},
   "source": [
    "# Audit Section"
   ]
  },
  {
   "cell_type": "code",
   "execution_count": null,
   "metadata": {},
   "outputs": [],
   "source": [
    "#Load the tree layer\n",
    "\n",
    "# Testing with test layer\n",
    "itemId ='bf54e33219c94795b58e1b10b973e74b'\n",
    "\n",
    "#itemId = '1b248cba12994420a1fbc7957f8e4cf9'\n",
    "fs =gis.content.get(itemId)\n",
    "display(fs)\n",
    "lyrs = fs.layers\n",
    "for lyr in lyrs:\n",
    "    print(lyr.properties.name)\n",
    "    tree_lyr = lyr"
   ]
  },
  {
   "cell_type": "code",
   "execution_count": null,
   "metadata": {},
   "outputs": [],
   "source": [
    "# This takes care of features where the Labeled field is blank\n",
    "\n",
    "beforeLabel = tree_lyr.query(where= 'Labeled is NULL', return_count_only= True)\n",
    "if beforeLabel > 0:\n",
    "    print(\"Number of Trees where Labeled field is blank:\",beforeLabel)\n",
    "    Tests = tree_lyr.query(where= 'Labeled is NULL', out_fields = \"*\", returnGeometry = False)\n",
    "\n",
    "    for Test in Tests:\n",
    "       Test.set_value('Labeled', \"No\") #set the blanks to No\n",
    "\n",
    "    # update the features in AGOL\n",
    "    results = tree_lyr.edit_features(updates=Tests)\n",
    "    print (\"Took care of them.\")\n",
    "    \n",
    "else:\n",
    "    print(\"There were no trees with a blank Labeled field\")"
   ]
  },
  {
   "cell_type": "code",
   "execution_count": null,
   "metadata": {},
   "outputs": [],
   "source": [
    "# This takes care of features where the KeyID field is blank or duplicated\n",
    "\n",
    "# Let's see if there are records that need to be fixed\n",
    "totalRecords = tree_lyr.query(return_count_only= True)\n",
    "blankKeys = tree_lyr.query(where= 'KeyID is NULL', return_count_only= True)\n",
    "zeroKeys = tree_lyr.query(where= 'KeyID=0', return_count_only= True)\n",
    "    \n",
    "# there could be one record with a 0 as the KeyID, which would make it unique, but still not populated\n",
    "if zeroKeys > 0:\n",
    "    print(\"There are {} 0s in there\".format(str(zeroKeys)))\n",
    "    \n",
    "if blankKeys > 0:\n",
    "    print (\"There are {} NULLs in there\".format(str(blankKeys)))\n",
    "\n",
    "    noKey = tree_lyr.query(where= 'KeyID is NULL', out_fields = \"[KeyID]\", returnGeometry = False)\n",
    "\n",
    "    for n in noKey:\n",
    "       n.set_value('KeyID', 0) #set the nulls to 0\n",
    "    results = tree_lyr.edit_features(updates=noKey)\n",
    "        \n",
    "# Let's check for duplicate KeyIDs using pandas\n",
    "import pandas as pd\n",
    "distKeys = tree_lyr.query(out_fields=['KeyID'],returnGeometry = False) # query all the KeyIDs\n",
    "df = distKeys.sdf # turn that query into a pandas dataframe\n",
    "\n",
    "dups = df[df.duplicated(subset=['KeyID'], keep='first')] # get only the duplicated KeyIDs RETAINING the first\n",
    "\n",
    "# Make a list of those OBJECTIDs\n",
    "dupOID = []\n",
    "for index, row in dups.iterrows():\n",
    "    dupOID.append(row['OBJECTID'])\n",
    "\n",
    "# Use that list of OBJECTIDs to change the duplicated KeyIDs to 0\n",
    "if not dupOID:\n",
    "    print (\"There are {} duplicates in there\".format(str(len(dupOID))))\n",
    "    for d in dupOID:\n",
    "        print (d)\n",
    "        fix = tree_lyr.query(where= 'OBJECTID = '+str(d), out_fields = ['OBJECTID','KeyID'], returnGeometry = False)\n",
    "        fix.set_value('KeyID', 0)\n",
    "        \n",
    "    # Commit the duplicate edits\n",
    "    txt_dupOID = [ '%.0f' % elem for elem in dupOID ] # need to format the query\n",
    "    qrystring = ','.join(txt_dupOID)\n",
    "    dupKeys = tree_lyr.query(where= 'OBJECTID IN ('+ qrystring + ')', out_fields = ['OBJECTID','KeyID'], returnGeometry = False)\n",
    "    results = tree_lyr.edit_features(updates=dupKeys)"
   ]
  },
  {
   "cell_type": "code",
   "execution_count": null,
   "metadata": {},
   "outputs": [],
   "source": [
    "# Some code that brings the tree layer into a pandas df for analysis\n",
    "\n",
    "import pandas as pd\n",
    "testset = tree_lyr.query(out_fields = \"*\", returnGeometry = False)\n",
    "df = testset.sdf\n",
    "\n",
    "#filter the dataframe to features where the Labelled field is blank\n",
    "af = df.loc[(df['Labeled'].isna()), ['OBJECTID','KeyID','Labeled']]\n",
    "af['Labeled']= \"No\"\n",
    "af"
   ]
  },
  {
   "cell_type": "code",
   "execution_count": null,
   "metadata": {},
   "outputs": [],
   "source": []
  }
 ],
 "metadata": {
  "kernelspec": {
   "display_name": "Python 3",
   "language": "python",
   "name": "python3"
  },
  "language_info": {
   "codemirror_mode": {
    "name": "ipython",
    "version": 3
   },
   "file_extension": ".py",
   "mimetype": "text/x-python",
   "name": "python",
   "nbconvert_exporter": "python",
   "pygments_lexer": "ipython3",
   "version": "3.6.8"
  }
 },
 "nbformat": 4,
 "nbformat_minor": 2
}
