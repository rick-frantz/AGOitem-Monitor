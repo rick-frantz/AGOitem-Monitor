{
 "cells": [
  {
   "cell_type": "markdown",
   "metadata": {},
   "source": [
    "# Tree Data Audit\n",
    "Description: This will audit the data integrity of the Audubon Society's tree inventory data of Green Lawn Cemetery in Columbus, OH.\n",
    " \n",
    "Created on: 10/27/2019\n",
    " \n",
    "Purpose: Various fields have technical or data hygeine requirements. This scours the data, filling in incomplete data where possible and reporting instances where populating is not possible. \n",
    " \n",
    "Authored by: Rick Frantz"
   ]
  },
  {
   "cell_type": "markdown",
   "metadata": {},
   "source": [
    "# Connect to ArcGIS Online"
   ]
  },
  {
   "cell_type": "code",
   "execution_count": null,
   "metadata": {},
   "outputs": [],
   "source": [
    "# import\n",
    "from arcgis.gis import GIS\n",
    "from arcgis.gis.server import Server\n",
    "import getpass\n",
    "from IPython.display import display\n",
    "from arcgis.mapping import WebMap\n",
    "import json\n",
    "import requests\n",
    "from arcgis.features import FeatureSet, Feature\n",
    "#import time\n",
    "\n",
    "# Connection Variables\n",
    "#Organization = \"https://audubon.maps.arcgis.com\"\n",
    "Organization = input(\"What's your oranization? \")\n",
    "User = input(\"What's your  username? \")\n",
    "Password = getpass.getpass('Password: ')\n",
    "\n",
    "# Connection \n",
    "gis = GIS(Organization, User, Password)\n",
    "gis"
   ]
  },
  {
   "cell_type": "markdown",
   "metadata": {},
   "source": [
    "# Audit Section"
   ]
  },
  {
   "cell_type": "code",
   "execution_count": null,
   "metadata": {},
   "outputs": [],
   "source": [
    "#Load the tree layer\n",
    "\n",
    "# Testing with test layer\n",
    "itemId ='bf54e33219c94795b58e1b10b973e74b'\n",
    "\n",
    "#itemId = '1b248cba12994420a1fbc7957f8e4cf9'\n",
    "fs =gis.content.get(itemId)\n",
    "display(fs)\n",
    "lyrs = fs.layers\n",
    "for lyr in lyrs:\n",
    "    print(lyr.properties.name)\n",
    "    tree_lyr = lyr"
   ]
  },
  {
   "cell_type": "code",
   "execution_count": null,
   "metadata": {},
   "outputs": [],
   "source": [
    "# This \"works\" but when looking at the data after running it, there's no change. Not sure if it just takes a bit?\n",
    "Tests = tree_lyr.query(where= 'Labeled is NULL', out_fields = \"*\", returnGeometry = False)\n",
    "t = Tests.features[0]\n",
    "#t.set_value('Labeled', \"No\")\n",
    "#Test.features\n",
    "t\n",
    "\n",
    "for Test in Tests:\n",
    "   # Calculate the new value and assign it to the field in the current record\n",
    "   Test.set_value('Labeled', \"No\")\n",
    "\n",
    "# update the features in AGOL\n",
    "results = tree_lyr.edit_features(updates=Tests)"
   ]
  },
  {
   "cell_type": "code",
   "execution_count": null,
   "metadata": {},
   "outputs": [],
   "source": [
    "Test = tree_lyr.query(where= 'Labeled is NULL', return_count_only= True)\n",
    "print(\"Number of Trees where Labeled field is blank:\",Test)\n",
    "\n",
    "#The query returns a FeatureSet, but calculate requires a FeatureLayer\n",
    "One = tree_lyr.query(where= 'Labeled is NULL', out_fields = \"*\", returnGeometry = False)\n",
    "One\n",
    "#print(One.calculate(where= 'Labeled is NULL', calc_expression={\"field\": \"Labeled\", \"value\" : \"No\"}))\n"
   ]
  },
  {
   "cell_type": "code",
   "execution_count": null,
   "metadata": {},
   "outputs": [],
   "source": [
    "# Trying to calculate using a pandas dataframe.\n",
    "# Abandon this avenue. It only works if you upload it back to AGO and join.\n",
    "# They use the above method here: https://developers.arcgis.com/python/sample-notebooks/which-college-district-has-the-fewest-low-income-families/\n",
    "\n",
    "import pandas as pd\n",
    "testset = tree_lyr.query(out_fields = \"*\", returnGeometry = False)\n",
    "df = testset.sdf\n",
    "\n",
    "#filter the dataframe to features where the Labelled field is blank\n",
    "af = df.loc[(df['Labeled'].isna()), ['OBJECTID','KeyID','Labeled']]\n",
    "af['Labeled']= \"No\"\n",
    "af"
   ]
  },
  {
   "cell_type": "code",
   "execution_count": null,
   "metadata": {},
   "outputs": [],
   "source": []
  }
 ],
 "metadata": {
  "kernelspec": {
   "display_name": "Python 3",
   "language": "python",
   "name": "python3"
  },
  "language_info": {
   "codemirror_mode": {
    "name": "ipython",
    "version": 3
   },
   "file_extension": ".py",
   "mimetype": "text/x-python",
   "name": "python",
   "nbconvert_exporter": "python",
   "pygments_lexer": "ipython3",
   "version": "3.6.8"
  }
 },
 "nbformat": 4,
 "nbformat_minor": 2
}
